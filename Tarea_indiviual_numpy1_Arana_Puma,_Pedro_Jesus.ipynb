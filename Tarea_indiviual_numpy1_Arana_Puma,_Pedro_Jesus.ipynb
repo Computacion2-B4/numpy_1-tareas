{
  "cells": [
    {
      "cell_type": "markdown",
      "metadata": {
        "id": "FCf43E5E_Z9y"
      },
      "source": [
        "<center> <h1>Universidad Nacional de San Agustín de Arequipa</h1> </center>\n",
        "<center> <h1>Escuela Profesional de Ingeniería de Telecomunicaciones</h1> </center>\n",
        "\n",
        "<center> <h1> </h1> </center>\n",
        "\n",
        "<center><img src=\"https://user-images.githubusercontent.com/19308295/115939517-f1c6fe80-a463-11eb-989c-812ab4942586.png\" width=\"380\" height=\"4200\"></center>"
      ]
    },
    {
      "cell_type": "markdown",
      "metadata": {
        "id": "gWRgeTzh_Z90"
      },
      "source": [
        "<center> <h2>Ingeniero Renzo Bolivar - Docente DAIE</h2> </center>"
      ]
    },
    {
      "cell_type": "markdown",
      "metadata": {
        "id": "WeszAuM__Z91"
      },
      "source": [
        "<center> <h1>Curso : Computación 2</h1> </center>\n",
        "<center> <h2>Alumno : Arana Puma, Pedro Jesus</h2> </center>"
      ]
    },
    {
      "cell_type": "markdown",
      "metadata": {
        "id": "ZOqRoCRq_Z91"
      },
      "source": [
        "![linea 1](https://user-images.githubusercontent.com/19308295/115926252-2b8a0c00-a448-11eb-9d9c-b43beaf0ff68.png)"
      ]
    },
    {
      "cell_type": "markdown",
      "metadata": {
        "id": "kBn-A7Ga_Z92"
      },
      "source": [
        "<center> <h1>NUMPY</h1> </center>"
      ]
    },
    {
      "cell_type": "markdown",
      "metadata": {
        "id": "eCB3Yand_Z92"
      },
      "source": [
        "![linea 1](https://user-images.githubusercontent.com/19308295/115926252-2b8a0c00-a448-11eb-9d9c-b43beaf0ff68.png)"
      ]
    },
    {
      "cell_type": "markdown",
      "metadata": {
        "id": "wI5ASA1o_Z93"
      },
      "source": [
        "# Descripción:"
      ]
    },
    {
      "cell_type": "markdown",
      "metadata": {
        "id": "br1HxbyD_Z93"
      },
      "source": [
        "En este notebook se explicarán la librería de cálculo numérico NUMPY, una de las aplicaciones más utilizadas para la computación numérica en Python."
      ]
    },
    {
      "cell_type": "markdown",
      "metadata": {
        "id": "cL7yslLH_Z93"
      },
      "source": [
        "# Objetivos:\n",
        "\n",
        "\n",
        " 1. Familiarizarce con las matrices en NumPy\n",
        " 2. Creación de matrices en Numpy\n",
        " 3. Comprobar la facilidad de uso en NumPy"
      ]
    },
    {
      "cell_type": "markdown",
      "metadata": {
        "id": "8o5SPcaX_Z93"
      },
      "source": [
        "# Contenido:"
      ]
    },
    {
      "cell_type": "markdown",
      "metadata": {
        "id": "ZyB43GIG_Z94"
      },
      "source": [
        "[1. Numpy: Librería de cálculo numérico](#1.-Numpy:-Librería-de-cálculo-numérico)<br>\n",
        "[2. Numpy: Funciones básicas](#2.-Numpy:-Funciones-básicas)<br>\n",
        "[3. Inspeccionar matrices de NumPy](#3.-Inspeccionar-matrices-de-NumPy)<br>\n",
        "[4. Operaciones Matemáticas entre matrices de NumPy](#4.-Operaciones-Matemáticas-entre-matrices-de-NumPy)<br>\n",
        "\n",
        "[EJEMPLOS](#EJEMPLOS)<br>\n",
        "[EJERCICIOS](#EJERCICIOS)<br>\n",
        "[BIBLIOGRAFÍA](#BIBLIOGRAFÍA)<br>"
      ]
    },
    {
      "cell_type": "markdown",
      "metadata": {
        "id": "Jiqksmyw_Z94"
      },
      "source": [
        "![linea 1](https://user-images.githubusercontent.com/19308295/115926252-2b8a0c00-a448-11eb-9d9c-b43beaf0ff68.png)"
      ]
    },
    {
      "cell_type": "markdown",
      "metadata": {
        "id": "1RCPZ1D6_Z94"
      },
      "source": [
        "## <font color=#33A5FF>****1. Numpy: Librería de cálculo numérico****<tfont>"
      ]
    },
    {
      "cell_type": "markdown",
      "metadata": {
        "id": "1jPtKuPl_Z94"
      },
      "source": [
        "<img src=\"https://user-images.githubusercontent.com/19308295/115939595-32bf1300-a464-11eb-8c50-6f05dce9a805.png\"\n",
        "    style=\"width:300px; float: right; margin: 0 40px 40px 40px;\"></img>\n",
        "\n",
        "NumPy (Numerical Python) es uno de los paquetes centrales para la computación numérica en Python. Pandas, Matplotlib, Statmodels y muchas otras librerías científicas dependen de NumPy.\n",
        "\n",
        "Las principales contribuciones de NumPy son:\n",
        "\n",
        "* Computación numérica eficiente con código \"C\"\n",
        "* Recopilaciones eficientes con operaciones vectoriales\n",
        "* Un Aplicativo (API) de álgebra lineal integrada y natural\n",
        "* Un Aplicativo (API) en C para conectar NumPy con librerías escritas en C, C++ o FORTRAN.\n",
        "\n",
        "Desarrollemos la eficiencia. En Python, **todo es un objeto**, lo que significa que incluso los simples __enteros (int)__ son también objetos, con toda la maquinaria necesaria para hacer que el objeto funcione. Los llamamos \"Boxed Ints\". En cambio, `NumPy` utiliza tipos numéricos primitivos (floats, ints) que hacen que el almacenamiento y el cálculo sean eficientes.\n"
      ]
    },
    {
      "cell_type": "markdown",
      "metadata": {
        "id": "nAkR6a8G_Z94"
      },
      "source": [
        "![Python Boxed Ints vs C and Numpy](https://user-images.githubusercontent.com/19308295/115942212-b2ea7600-a46e-11eb-86ed-d7cdc9dffbe0.png)"
      ]
    },
    {
      "cell_type": "markdown",
      "metadata": {
        "id": "F6cbkeC0_Z94"
      },
      "source": [
        "\n",
        "<img src=\"https://user-images.githubusercontent.com/19308295/115942590-98b19780-a470-11eb-84b0-a6390e928eb3.png\"\n",
        "    style=\"width:700px\"></img>"
      ]
    },
    {
      "cell_type": "markdown",
      "metadata": {
        "id": "e18yl4wi_Z94"
      },
      "source": [
        "\n",
        "<div class=\"well\">\n",
        "\n",
        "<strong>Utilización de NumPy:</strong>\n",
        "    \n",
        "* En Matemáticas (Reemplaza al MATLAB)\n",
        "* Genera Gráficos a partir de Matrices Numpy\n",
        "* Backend (Pandas, Connect 4 Games, Fotografía Digital)\n",
        "* Machine Learning.\n",
        "    \n",
        "</div>"
      ]
    },
    {
      "cell_type": "markdown",
      "metadata": {
        "id": "bsqx6DgU_Z95"
      },
      "source": [
        "<div class=\"well\">\n",
        "\n",
        "<strong>NumPy Array o el arreglo de matrices de NumPy</strong> es un potente objeto de matriz N-dimensional que tiene forma de filas y columnas, en la que tenemos varios elementos que están almacenados en sus respectivas ubicaciones de memoria.\n",
        "    \n",
        "En la siguiente imagen, es una <strong>matriz bidimensiona</strong>l porque tiene filas y columnas, como puedes ver tiene cuatro filas y tres columnas, por lo que se convierte en una matriz bidimensional. En el caso de que solo tuviera una fila entonces habría sido una matriz unidimensional.\n",
        "    \n",
        "</div>"
      ]
    },
    {
      "cell_type": "markdown",
      "metadata": {
        "id": "k6ZsxZBg_Z95"
      },
      "source": [
        "![Practica_04](https://user-images.githubusercontent.com/19308295/115941133-c8a96c80-a469-11eb-8e21-117c1e84bf69.png)"
      ]
    },
    {
      "cell_type": "markdown",
      "metadata": {
        "id": "HEFQIh-X_Z95"
      },
      "source": [
        "![linea 2](https://user-images.githubusercontent.com/19308295/115926262-2fb62980-a448-11eb-8189-c2f10e499944.png)"
      ]
    },
    {
      "cell_type": "markdown",
      "metadata": {
        "id": "DLKGrLUi_Z95"
      },
      "source": [
        "## <font color=#33A5FF>****2. Numpy: Funciones básicas****<tfont>"
      ]
    },
    {
      "cell_type": "markdown",
      "metadata": {
        "id": "H7JM2M0e_Z95"
      },
      "source": [
        "###  Matriz  unidimensional"
      ]
    },
    {
      "cell_type": "markdown",
      "metadata": {
        "id": "VvWRC_wD_Z95"
      },
      "source": [
        "Con la primera instrucción `import numpy as np` le estamos indicando a nuestro programa de Python que de ahora en adelante `np` será la referencia para todo lo referente a NumPy."
      ]
    },
    {
      "cell_type": "code",
      "execution_count": null,
      "metadata": {
        "id": "VQy8zM0G_Z95",
        "outputId": "f1524df9-24eb-462f-ea22-a7df414f8e6a"
      },
      "outputs": [
        {
          "name": "stdout",
          "output_type": "stream",
          "text": [
            "[1 2 3]\n"
          ]
        }
      ],
      "source": [
        "import numpy as np\n",
        "a=np.array([1,2,3])\n",
        "print(a)"
      ]
    },
    {
      "cell_type": "code",
      "execution_count": null,
      "metadata": {
        "id": "kjDwvbXa_Z96"
      },
      "outputs": [],
      "source": []
    },
    {
      "cell_type": "markdown",
      "metadata": {
        "id": "zWzemzT0_Z97"
      },
      "source": [
        "###  Matriz bidimensional"
      ]
    },
    {
      "cell_type": "code",
      "execution_count": 6,
      "metadata": {
        "colab": {
          "base_uri": "https://localhost:8080/"
        },
        "id": "Awg2TJL__Z97",
        "outputId": "6f2df3fb-b192-414f-ba49-2f2a2b9ad3f3"
      },
      "outputs": [
        {
          "output_type": "stream",
          "name": "stdout",
          "text": [
            "[[1 2 3 4]\n",
            " [5 6 7 8]]\n"
          ]
        }
      ],
      "source": [
        "import numpy as np\n",
        "b=np.array([(1,2,3,4),(5,6,7,8)])\n",
        "print(b)"
      ]
    },
    {
      "cell_type": "code",
      "execution_count": null,
      "metadata": {
        "id": "-GY4NQn-_Z97",
        "outputId": "6168b322-5928-497a-8849-e32b366555c1"
      },
      "outputs": [
        {
          "name": "stdout",
          "output_type": "stream",
          "text": [
            "[[1 2 3 4]\n",
            " [5 6 7 8]]\n"
          ]
        }
      ],
      "source": [
        "array=np.array([[1,2,3,4], [5,6,7,8]], dtype=np.int64)\n",
        "print(array)"
      ]
    },
    {
      "cell_type": "markdown",
      "metadata": {
        "id": "VnafxSRP_Z97"
      },
      "source": [
        "###  Porque usar NumPy"
      ]
    },
    {
      "cell_type": "markdown",
      "metadata": {
        "id": "-p6QlE-X_Z97"
      },
      "source": [
        "Porque usar NumPy en vez de utilizar las listas propias que ofrece Python para manejar estos datos, la primera razón es que NumPy ocupa menos memoria en comparación a las lista de Python, a su vez es bastante rápido en términos de ejecución. Lo que se observa en el siguiente ejemplo:"
      ]
    },
    {
      "cell_type": "markdown",
      "metadata": {
        "id": "f3bR12dj_Z97"
      },
      "source": [
        "**Cantidad de memoria asignada**"
      ]
    },
    {
      "cell_type": "code",
      "execution_count": null,
      "metadata": {
        "id": "SBK1nWYB_Z97",
        "outputId": "d9a2e8c0-6328-414b-ef3c-a6daf284b4b9"
      },
      "outputs": [
        {
          "name": "stdout",
          "output_type": "stream",
          "text": [
            "28000\n"
          ]
        }
      ],
      "source": [
        "import sys\n",
        "S=range(1000)\n",
        "print(sys.getsizeof(5)*len(S))"
      ]
    },
    {
      "cell_type": "code",
      "execution_count": null,
      "metadata": {
        "id": "IjoEGT5E_Z98",
        "outputId": "ffcb0655-96df-4e80-caf8-fd088dc90640"
      },
      "outputs": [
        {
          "name": "stdout",
          "output_type": "stream",
          "text": [
            "4000\n"
          ]
        }
      ],
      "source": [
        "D=np.arange(1000)\n",
        "print(D.size*D.itemsize)"
      ]
    },
    {
      "cell_type": "markdown",
      "metadata": {
        "id": "IciVac0W_Z98"
      },
      "source": [
        "**Velocidad**"
      ]
    },
    {
      "cell_type": "code",
      "execution_count": null,
      "metadata": {
        "id": "wpr2T-mp_Z98",
        "outputId": "832562ea-c7a4-447f-8fe4-b2a7662b6ade"
      },
      "outputs": [
        {
          "name": "stdout",
          "output_type": "stream",
          "text": [
            "380.6002140045166\n"
          ]
        }
      ],
      "source": [
        "import time\n",
        "\n",
        "SIZE = 1000000\n",
        "\n",
        "L1= range(SIZE)\n",
        "L2= range(SIZE)\n",
        "\n",
        "start= time.time()\n",
        "result=[(x,y) for x,y in zip(L1,L2)] #se usa for\n",
        "print((time.time()-start)*1000)#velocidad en lista"
      ]
    },
    {
      "cell_type": "code",
      "execution_count": null,
      "metadata": {
        "id": "OPJNDlAe_Z98",
        "outputId": "83677e1b-35af-4f6a-bb94-0e77b9e0f07d"
      },
      "outputs": [
        {
          "name": "stdout",
          "output_type": "stream",
          "text": [
            "115.75770378112793\n"
          ]
        }
      ],
      "source": [
        "A1=np.arange(SIZE)\n",
        "A2=np.arange(SIZE)\n",
        "\n",
        "start=time.time()\n",
        "result= A1+A2 #solo se suma\n",
        "print((time.time()-start)*1000) #velocidad de Numpy"
      ]
    },
    {
      "cell_type": "markdown",
      "metadata": {
        "id": "MEDkD06l_Z98"
      },
      "source": [
        "### Matrices Vacias"
      ]
    },
    {
      "cell_type": "markdown",
      "metadata": {
        "id": "KLaYXDcK_Z98"
      },
      "source": [
        "En ocasiones se requiere crear matrices vacías, esto se refiere a que se requieren marcadores de posición iniciales, que luego pueden ser rellenados. Se puede inicializar matrices con unos o ceros, pero también puedes hacer matrices que se llenan con valores espaciados uniformemente, valores constantes o aleatorios.\n",
        "\n",
        "Algunas de las instrucciones para crear este tipo de matrices son las siguientes:"
      ]
    },
    {
      "cell_type": "markdown",
      "metadata": {
        "id": "mMQV23ox_Z98"
      },
      "source": [
        "**Crear una matriz en donde todos los valores sean igual a 1**"
      ]
    },
    {
      "cell_type": "code",
      "execution_count": null,
      "metadata": {
        "id": "N4vhYpLz_Z99",
        "outputId": "5419c1ae-4f8e-4496-f79a-2d16dc29d537"
      },
      "outputs": [
        {
          "name": "stdout",
          "output_type": "stream",
          "text": [
            "[[1. 1. 1. 1.]\n",
            " [1. 1. 1. 1.]\n",
            " [1. 1. 1. 1.]]\n"
          ]
        }
      ],
      "source": [
        "unos = np.ones((3,4))\n",
        "print(unos)"
      ]
    },
    {
      "cell_type": "markdown",
      "metadata": {
        "id": "B4tLiN5L_Z99"
      },
      "source": [
        "**Crear una matriz en donde todos los valores sean igual a 0**"
      ]
    },
    {
      "cell_type": "code",
      "execution_count": null,
      "metadata": {
        "id": "eDif60ju_Z9-",
        "outputId": "bd8646b9-57c8-4fac-9a9e-6c07a36180d4"
      },
      "outputs": [
        {
          "name": "stdout",
          "output_type": "stream",
          "text": [
            "[[0. 0. 0. 0.]\n",
            " [0. 0. 0. 0.]\n",
            " [0. 0. 0. 0.]]\n"
          ]
        }
      ],
      "source": [
        "ceros = np.zeros((3,4))\n",
        "print(ceros)"
      ]
    },
    {
      "cell_type": "markdown",
      "metadata": {
        "id": "dkG8HpnE_Z9-"
      },
      "source": [
        "**Crear una matriz de números aleatorios**"
      ]
    },
    {
      "cell_type": "code",
      "execution_count": null,
      "metadata": {
        "id": "zgQV_qgi_Z9-",
        "outputId": "935d4b15-16db-4de9-e868-9503c5192334"
      },
      "outputs": [
        {
          "name": "stdout",
          "output_type": "stream",
          "text": [
            "[[0.25934036 0.50645479]\n",
            " [0.26497069 0.50248828]]\n"
          ]
        }
      ],
      "source": [
        "aleatorios = np.random.random((2,2))\n",
        "print(aleatorios)"
      ]
    },
    {
      "cell_type": "markdown",
      "metadata": {
        "id": "b6olsNqm_Z9-"
      },
      "source": [
        "**Crear una matriz vacía**"
      ]
    },
    {
      "cell_type": "code",
      "execution_count": null,
      "metadata": {
        "id": "oaei8Mw__Z9-",
        "outputId": "c941e040-4e90-4d05-d8e4-e808b74e508c"
      },
      "outputs": [
        {
          "name": "stdout",
          "output_type": "stream",
          "text": [
            "[[6.23042070e-307 4.67296746e-307]\n",
            " [1.69121096e-306 8.06617709e-308]\n",
            " [1.89146896e-307 7.56571288e-307]]\n"
          ]
        }
      ],
      "source": [
        "vacia = np.empty((3,2))\n",
        "print(vacia)"
      ]
    },
    {
      "cell_type": "markdown",
      "metadata": {
        "id": "o6oGAuZa_Z9_"
      },
      "source": [
        "**Crear una matriz que contenga un solo valor en todas las posiciones**"
      ]
    },
    {
      "cell_type": "code",
      "execution_count": null,
      "metadata": {
        "id": "cJuMalzs_Z9_",
        "outputId": "0be92da7-14e2-4b38-b0d4-4cf8b5e86960"
      },
      "outputs": [
        {
          "name": "stdout",
          "output_type": "stream",
          "text": [
            "[[8 8]\n",
            " [8 8]]\n"
          ]
        }
      ],
      "source": [
        "full = np.full((2,2),8)\n",
        "print(full)"
      ]
    },
    {
      "cell_type": "markdown",
      "metadata": {
        "id": "kicYKaAM_Z9_"
      },
      "source": [
        "**Crear una matriz con rangos de números**"
      ]
    },
    {
      "cell_type": "code",
      "execution_count": null,
      "metadata": {
        "id": "nOm0bigC_Z9_",
        "outputId": "c36e4b64-a4d1-4d8f-b20a-836f150f54db"
      },
      "outputs": [
        {
          "name": "stdout",
          "output_type": "stream",
          "text": [
            "[ 0  5 10 15 20 25]\n"
          ]
        }
      ],
      "source": [
        "espacio1 = np.arange(0,30,5)\n",
        "print(espacio1)"
      ]
    },
    {
      "cell_type": "code",
      "execution_count": null,
      "metadata": {
        "id": "IdxH2G9x_Z9_",
        "outputId": "1c6da3c7-e077-43a9-e5d7-058e4c01ac12"
      },
      "outputs": [
        {
          "name": "stdout",
          "output_type": "stream",
          "text": [
            "[0.  0.5 1.  1.5 2. ]\n"
          ]
        }
      ],
      "source": [
        "espacio2 = np.linspace(0,2,5)\n",
        "print(espacio2)"
      ]
    },
    {
      "cell_type": "markdown",
      "metadata": {
        "id": "dxgnTpfv_Z9_"
      },
      "source": [
        "**Crear una matriz identidad**"
      ]
    },
    {
      "cell_type": "code",
      "execution_count": null,
      "metadata": {
        "id": "rXdCLHKu_Z9_",
        "outputId": "c3992a95-d916-4b98-819d-d12a69fbf7b7"
      },
      "outputs": [
        {
          "name": "stdout",
          "output_type": "stream",
          "text": [
            "[[1. 0. 0. 0.]\n",
            " [0. 1. 0. 0.]\n",
            " [0. 0. 1. 0.]\n",
            " [0. 0. 0. 1.]]\n",
            "[[1. 0. 0. 0.]\n",
            " [0. 1. 0. 0.]\n",
            " [0. 0. 1. 0.]\n",
            " [0. 0. 0. 1.]]\n"
          ]
        }
      ],
      "source": [
        "identidad1 = np.eye(4,4)\n",
        "print(identidad1)\n",
        "\n",
        "identidad2 = np.identity(4)\n",
        "print(identidad2)"
      ]
    },
    {
      "cell_type": "markdown",
      "metadata": {
        "id": "cs6M8NsK_Z-A"
      },
      "source": [
        "![linea 2](https://user-images.githubusercontent.com/19308295/115926262-2fb62980-a448-11eb-8189-c2f10e499944.png)"
      ]
    },
    {
      "cell_type": "markdown",
      "metadata": {
        "id": "ep3B8_c1_Z-A"
      },
      "source": [
        "## <font color=#33A5FF>****3. Inspeccionar matrices de NumPy****<tfont>"
      ]
    },
    {
      "cell_type": "markdown",
      "metadata": {
        "id": "mdtBYR3b_Z-A"
      },
      "source": [
        "**Dimensión de una matriz**"
      ]
    },
    {
      "cell_type": "code",
      "execution_count": null,
      "metadata": {
        "id": "3F5hJXNM_Z-A",
        "outputId": "746aebb7-d106-4045-f8d5-10b22fa3446e"
      },
      "outputs": [
        {
          "name": "stdout",
          "output_type": "stream",
          "text": [
            "2\n"
          ]
        }
      ],
      "source": [
        "# Conocer las dimensiones de una matriz\n",
        "a = np.array([(1,2,3),(4,5,6)])\n",
        "print(a.ndim)"
      ]
    },
    {
      "cell_type": "markdown",
      "metadata": {
        "id": "zS8PhO91_Z-A"
      },
      "source": [
        "**Tipo de Datos de una matriz**"
      ]
    },
    {
      "cell_type": "code",
      "execution_count": null,
      "metadata": {
        "id": "ZOs8Rc7Q_Z-B",
        "outputId": "cec1c035-f637-450e-e47a-c4d5a344bbf3"
      },
      "outputs": [
        {
          "name": "stdout",
          "output_type": "stream",
          "text": [
            "int32\n"
          ]
        }
      ],
      "source": [
        "# Conocer el tipo de los datos\n",
        "print(a.dtype)"
      ]
    },
    {
      "cell_type": "markdown",
      "metadata": {
        "id": "l7y_EMaX_Z-B"
      },
      "source": [
        "**Tamaño y forma de una matriz**"
      ]
    },
    {
      "cell_type": "code",
      "execution_count": null,
      "metadata": {
        "id": "nb7FqS_z_Z-B",
        "outputId": "5faefbce-e83b-4db0-df98-d3e2e6e20ec4"
      },
      "outputs": [
        {
          "name": "stdout",
          "output_type": "stream",
          "text": [
            "6\n",
            "(1, 6)\n"
          ]
        }
      ],
      "source": [
        "# Conocer el tamaño y forma de la matriz\n",
        "a = np.array([(1,2,3,4,5,6)])\n",
        "print(a.size)\n",
        "print(a.shape)"
      ]
    },
    {
      "cell_type": "markdown",
      "metadata": {
        "id": "yMrk8BWC_Z-B"
      },
      "source": [
        "**Cambio de forma de una matriz**"
      ]
    },
    {
      "cell_type": "code",
      "execution_count": null,
      "metadata": {
        "id": "5eBMi8Yl_Z-B",
        "outputId": "6c784ece-03b4-4f9f-aea8-36431783242d"
      },
      "outputs": [
        {
          "name": "stdout",
          "output_type": "stream",
          "text": [
            "[[ 8  9 10]\n",
            " [11 12 13]]\n",
            "[[ 8  9]\n",
            " [10 11]\n",
            " [12 13]]\n"
          ]
        }
      ],
      "source": [
        "# Cambio de forma de una matriz\n",
        "a = np.array([(8,9,10),(11,12,13)])  #2 filas x 3 columnas\n",
        "print(a)\n",
        "a = a.reshape(3,2)#3 filas x 2 columnas\n",
        "print(a)"
      ]
    },
    {
      "cell_type": "markdown",
      "metadata": {
        "id": "r1LjxOaJ_Z-B"
      },
      "source": [
        "**Seleccionar elemento de una matriz**"
      ]
    },
    {
      "cell_type": "code",
      "execution_count": null,
      "metadata": {
        "id": "dSyCvMJo_Z-C",
        "outputId": "a90d53f4-10b5-4bca-c691-8dd43f8733da"
      },
      "outputs": [
        {
          "name": "stdout",
          "output_type": "stream",
          "text": [
            "3\n"
          ]
        }
      ],
      "source": [
        "# Extraer un solo valor de la matriz - el valor ubicado en la fila 0 columna 2\n",
        "a = np.array([(1,2,3,4),(3,4,5,6)])\n",
        "print(a[0,2])"
      ]
    },
    {
      "cell_type": "code",
      "execution_count": null,
      "metadata": {
        "id": "sUBoDcSP_Z-C",
        "outputId": "6cfb631a-9708-43cc-f063-99c96e2fe09d"
      },
      "outputs": [
        {
          "name": "stdout",
          "output_type": "stream",
          "text": [
            "[3 5]\n"
          ]
        }
      ],
      "source": [
        "# Extraer los valores de todas las filas ubicados en la columna 3\n",
        "a = np.array([(1,2,3,4),(3,4,5,6)])\n",
        "print(a[0:,2])"
      ]
    },
    {
      "cell_type": "markdown",
      "metadata": {
        "id": "tsxNyjlE_Z-C"
      },
      "source": [
        "![linea 2](https://user-images.githubusercontent.com/19308295/115926262-2fb62980-a448-11eb-8189-c2f10e499944.png)"
      ]
    },
    {
      "cell_type": "markdown",
      "metadata": {
        "id": "El9e56RR_Z-C"
      },
      "source": [
        "## <font color=#33A5FF>****4. Operaciones Matemáticas entre matrices de NumPy****<tfont>"
      ]
    },
    {
      "cell_type": "markdown",
      "metadata": {
        "id": "zx5yFJ5O_Z-D"
      },
      "source": [
        "**Valor mínimo, máximo y la suma de una matriz**"
      ]
    },
    {
      "cell_type": "code",
      "execution_count": null,
      "metadata": {
        "id": "_OclshBk_Z-D",
        "outputId": "2f22ecd8-8a8a-42a3-e0eb-d49c4c009705"
      },
      "outputs": [
        {
          "name": "stdout",
          "output_type": "stream",
          "text": [
            "2\n",
            "800\n",
            "847\n"
          ]
        }
      ],
      "source": [
        "# Encontrar el mínimo, máximo y la suma\n",
        "a= np.array([2,45,800])\n",
        "print(a.min())\n",
        "print(a.max())\n",
        "print(a.sum())"
      ]
    },
    {
      "cell_type": "markdown",
      "metadata": {
        "id": "xOxmwIpb_Z-D"
      },
      "source": [
        "**Raiz Cuadrada y Desviación de una matriz**"
      ]
    },
    {
      "cell_type": "code",
      "execution_count": null,
      "metadata": {
        "id": "pzdS5omi_Z-D",
        "outputId": "280eb70a-009d-4624-f196-59e5c7ecf5f8"
      },
      "outputs": [
        {
          "name": "stdout",
          "output_type": "stream",
          "text": [
            "[[1.         2.         9.        ]\n",
            " [5.74456265 6.63324958 7.07106781]]\n",
            "27.5121185419565\n"
          ]
        }
      ],
      "source": [
        "# Calcular la raíz cuadrada y la desviación estándar\n",
        "a=np.array([(1,4,81),(33,44,50,)])\n",
        "print(np.sqrt(a))\n",
        "print(np.std(a))"
      ]
    },
    {
      "cell_type": "markdown",
      "metadata": {
        "id": "Ta08OlQG_Z-E"
      },
      "source": [
        "**Suma, resta, multiplicación y división de dos matrices**"
      ]
    },
    {
      "cell_type": "code",
      "execution_count": null,
      "metadata": {
        "id": "6GJDyUzf_Z-E",
        "outputId": "65aac8af-f143-488d-e3b8-49750bf50de7"
      },
      "outputs": [
        {
          "name": "stdout",
          "output_type": "stream",
          "text": [
            "[[ 2  4  6]\n",
            " [ 6  8 10]]\n",
            "\n",
            "[[0 0 0]\n",
            " [0 0 0]]\n",
            "\n",
            "[[ 1  4  9]\n",
            " [ 9 16 25]]\n",
            "\n",
            "[[1. 1. 1.]\n",
            " [1. 1. 1.]]\n"
          ]
        }
      ],
      "source": [
        "# Calcular la suma, resta, multiplicación y división de dos matrices\n",
        "x= np.array([(1,2,3),(3,4,5)])\n",
        "y= np.array([(1,2,3),(3,4,5)])\n",
        "print(x+y)\n",
        "print()\n",
        "print(x-y)\n",
        "print()\n",
        "print(x*y)\n",
        "print()\n",
        "print(x/y)"
      ]
    },
    {
      "cell_type": "markdown",
      "metadata": {
        "id": "GgfHOu4O_Z-E"
      },
      "source": [
        "![linea 2](https://user-images.githubusercontent.com/19308295/115926262-2fb62980-a448-11eb-8189-c2f10e499944.png)"
      ]
    },
    {
      "cell_type": "markdown",
      "metadata": {
        "id": "IsBToAV-_Z-E"
      },
      "source": [
        "## <font color=#33A5FF>****EJEMPLOS****<tfont>"
      ]
    },
    {
      "cell_type": "markdown",
      "metadata": {
        "id": "a4f0m_-e_Z-F"
      },
      "source": [
        "___Ejemplo 1:___ Cree una matriz de 5x5 con valores 1,2,3,4 justo debajo de la diagonal:"
      ]
    },
    {
      "cell_type": "code",
      "execution_count": null,
      "metadata": {
        "id": "P3HPnOWM_Z-F",
        "outputId": "02485e49-a22c-40e5-e1a4-d66006525b5e"
      },
      "outputs": [
        {
          "name": "stdout",
          "output_type": "stream",
          "text": [
            "[[0 0 0 0 0]\n",
            " [1 0 0 0 0]\n",
            " [0 2 0 0 0]\n",
            " [0 0 3 0 0]\n",
            " [0 0 0 4 0]]\n"
          ]
        }
      ],
      "source": [
        "Z = np.diag(1+np.arange(4),k=-1)\n",
        "print(Z)"
      ]
    },
    {
      "cell_type": "markdown",
      "metadata": {
        "id": "z-iBZXcd_Z-F"
      },
      "source": [
        "___Ejemplo 2:___ Crea un vector aleatorio de tamaño 30 y encuentra el valor medio :"
      ]
    },
    {
      "cell_type": "code",
      "execution_count": null,
      "metadata": {
        "id": "HcBKl0p-_Z-F",
        "outputId": "791129e3-824a-4457-cea0-badb64b770b8"
      },
      "outputs": [
        {
          "name": "stdout",
          "output_type": "stream",
          "text": [
            "0.5771996812017615\n"
          ]
        }
      ],
      "source": [
        "Z = np.random.random(30)\n",
        "m = Z.mean()\n",
        "print(m)"
      ]
    },
    {
      "cell_type": "markdown",
      "metadata": {
        "id": "9nCAzsxJ_Z-F"
      },
      "source": [
        "___Ejemplo 3:___ ¿Cómo ordenar una matriz por la enésima columna?:"
      ]
    },
    {
      "cell_type": "code",
      "execution_count": null,
      "metadata": {
        "id": "w0qx010F_Z-G",
        "outputId": "57b5ae1b-86ec-4e61-b9ff-cd4862b9d14d"
      },
      "outputs": [
        {
          "name": "stdout",
          "output_type": "stream",
          "text": [
            "[[0 9 7]\n",
            " [1 4 1]\n",
            " [5 9 5]]\n",
            "[[1 4 1]\n",
            " [0 9 7]\n",
            " [5 9 5]]\n"
          ]
        }
      ],
      "source": [
        "Z = np.random.randint(0,10,(3,3))\n",
        "print(Z)\n",
        "print(Z[Z[:,1].argsort()])"
      ]
    },
    {
      "cell_type": "markdown",
      "metadata": {
        "id": "MN3XkTy9_Z-G"
      },
      "source": [
        "___Ejemplo 4:___ ¿Cómo agregar un borde (lleno de 0) alrededor de una matriz existente?"
      ]
    },
    {
      "cell_type": "code",
      "execution_count": null,
      "metadata": {
        "id": "0rHXBPW6_Z-G",
        "outputId": "914b195e-7258-4faa-c8a1-b3c34781a367"
      },
      "outputs": [
        {
          "name": "stdout",
          "output_type": "stream",
          "text": [
            "[[0. 0. 0. 0. 0. 0. 0.]\n",
            " [0. 1. 1. 1. 1. 1. 0.]\n",
            " [0. 1. 1. 1. 1. 1. 0.]\n",
            " [0. 1. 1. 1. 1. 1. 0.]\n",
            " [0. 1. 1. 1. 1. 1. 0.]\n",
            " [0. 1. 1. 1. 1. 1. 0.]\n",
            " [0. 0. 0. 0. 0. 0. 0.]]\n"
          ]
        }
      ],
      "source": [
        "Z = np.ones((5,5))\n",
        "Z = np.pad(Z, pad_width=1, mode='constant', constant_values=0)\n",
        "print(Z)"
      ]
    },
    {
      "cell_type": "markdown",
      "metadata": {
        "id": "JWVKGgWQ_Z-G"
      },
      "source": [
        "![linea 2](https://user-images.githubusercontent.com/19308295/115926262-2fb62980-a448-11eb-8189-c2f10e499944.png)"
      ]
    },
    {
      "cell_type": "markdown",
      "metadata": {
        "id": "bcpqvYqf_Z-G"
      },
      "source": [
        "## <font color=#33A5FF>****BIBLIOGRAFÍA****<tfont>"
      ]
    },
    {
      "cell_type": "markdown",
      "metadata": {
        "id": "b2VALPzG_Z-G"
      },
      "source": [
        "[1] Documentación de NumPy http://docs.scipy.org/doc/numpy\n",
        "\n",
        "[2] Travis Oliphant, \"Guide to NumPy\" http://csc.ucdavis.edu/~chaos/courses/nlp/Software/NumPyBook.pdf\n",
        "\n",
        "[3] SciPy Lecture Notes http://scipy-lectures.github.io\n",
        "\n",
        "[4] Nicolas Rougier, \"100 NumPy exercises\" http://www.loria.fr/~rougier/teaching/numpy.100/index.html"
      ]
    },
    {
      "cell_type": "markdown",
      "metadata": {
        "id": "2-_b_9b0_Z-H"
      },
      "source": [
        "![linea 1](https://user-images.githubusercontent.com/19308295/115926252-2b8a0c00-a448-11eb-9d9c-b43beaf0ff68.png)"
      ]
    }
  ],
  "metadata": {
    "kernelspec": {
      "display_name": "Python 3 (ipykernel)",
      "language": "python",
      "name": "python3"
    },
    "language_info": {
      "codemirror_mode": {
        "name": "ipython",
        "version": 3
      },
      "file_extension": ".py",
      "mimetype": "text/x-python",
      "name": "python",
      "nbconvert_exporter": "python",
      "pygments_lexer": "ipython3",
      "version": "3.11.7"
    },
    "colab": {
      "provenance": []
    }
  },
  "nbformat": 4,
  "nbformat_minor": 0
}