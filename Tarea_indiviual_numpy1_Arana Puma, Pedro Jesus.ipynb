{
  "cells": [
    {
      "cell_type": "markdown",
      "metadata": {
        "id": "FCf43E5E_Z9y"
      },
      "source": [
        "<center> <h1>Universidad Nacional de San Agustín de Arequipa</h1> </center>\n",
        "<center> <h1>Escuela Profesional de Ingeniería de Telecomunicaciones</h1> </center>\n",
        "\n",
        "<center> <h1> </h1> </center>\n",
        "\n",
        "<center><img src=\"https://user-images.githubusercontent.com/19308295/115939517-f1c6fe80-a463-11eb-989c-812ab4942586.png\" width=\"380\" height=\"4200\"></center>"
      ]
    },
    {
      "cell_type": "markdown",
      "metadata": {
        "id": "gWRgeTzh_Z90"
      },
      "source": [
        "<center> <h2>Ingeniero Renzo Bolivar - Docente DAIE</h2> </center>"
      ]
    },
    {
      "cell_type": "markdown",
      "metadata": {
        "id": "WeszAuM__Z91"
      },
      "source": [
        "<center> <h1>Curso : Computación 2</h1> </center>\n",
        "<center> <h2>Alumno : Arana Puma, Pedro Jesus</h2> </center>"
      ]
    },
    {
      "cell_type": "markdown",
      "metadata": {
        "id": "ZOqRoCRq_Z91"
      },
      "source": [
        "![linea 1](https://user-images.githubusercontent.com/19308295/115926252-2b8a0c00-a448-11eb-9d9c-b43beaf0ff68.png)"
      ]
    },
    {
      "cell_type": "markdown",
      "metadata": {
        "id": "kBn-A7Ga_Z92"
      },
      "source": [
        "<center> <h1>NUMPY</h1> </center>"
      ]
    },
    {
      "cell_type": "markdown",
      "metadata": {
        "id": "eCB3Yand_Z92"
      },
      "source": [
        "![linea 1](https://user-images.githubusercontent.com/19308295/115926252-2b8a0c00-a448-11eb-9d9c-b43beaf0ff68.png)"
      ]
    },
    {
      "cell_type": "markdown",
      "metadata": {
        "id": "wI5ASA1o_Z93"
      },
      "source": [
        "# Descripción:"
      ]
    },
    {
      "cell_type": "markdown",
      "metadata": {
        "id": "br1HxbyD_Z93"
      },
      "source": [
        "En este notebook se explicarán la librería de cálculo numérico NUMPY, una de las aplicaciones más utilizadas para la computación numérica en Python."
      ]
    },
    {
      "cell_type": "markdown",
      "metadata": {
        "id": "cL7yslLH_Z93"
      },
      "source": [
        "# Objetivos:\n",
        "\n",
        "\n",
        " 1. Familiarizarce con las matrices en NumPy\n",
        " 2. Creación de matrices en Numpy\n",
        " 3. Comprobar la facilidad de uso en NumPy"
      ]
    },
    {
      "cell_type": "markdown",
      "metadata": {
        "id": "8o5SPcaX_Z93"
      },
      "source": [
        "# Contenido:"
      ]
    },
    {
      "cell_type": "markdown",
      "metadata": {
        "id": "ZyB43GIG_Z94"
      },
      "source": [
        "[1. Numpy: Librería de cálculo numérico](#1.-Numpy:-Librería-de-cálculo-numérico)<br>\n",
        "[2. Numpy: Funciones básicas](#2.-Numpy:-Funciones-básicas)<br>\n",
        "[3. Inspeccionar matrices de NumPy](#3.-Inspeccionar-matrices-de-NumPy)<br>\n",
        "[4. Operaciones Matemáticas entre matrices de NumPy](#4.-Operaciones-Matemáticas-entre-matrices-de-NumPy)<br>\n",
        "\n",
        "[EJEMPLOS](#EJEMPLOS)<br>\n",
        "[EJERCICIOS](#EJERCICIOS)<br>\n",
        "[BIBLIOGRAFÍA](#BIBLIOGRAFÍA)<br>"
      ]
    },
    {
      "cell_type": "markdown",
      "metadata": {
        "id": "Jiqksmyw_Z94"
      },
      "source": [
        "![linea 1](https://user-images.githubusercontent.com/19308295/115926252-2b8a0c00-a448-11eb-9d9c-b43beaf0ff68.png)"
      ]
    },
    {
      "cell_type": "markdown",
      "metadata": {
        "id": "1RCPZ1D6_Z94"
      },
      "source": [
        "## <font color=#33A5FF>****1. Numpy: Librería de cálculo numérico****<tfont>"
      ]
    },
    {
      "cell_type": "markdown",
      "metadata": {
        "id": "1jPtKuPl_Z94"
      },
      "source": [
        "<img src=\"https://user-images.githubusercontent.com/19308295/115939595-32bf1300-a464-11eb-8c50-6f05dce9a805.png\"\n",
        "    style=\"width:300px; float: right; margin: 0 40px 40px 40px;\"></img>\n",
        "\n",
        "NumPy (Numerical Python) es uno de los paquetes centrales para la computación numérica en Python. Pandas, Matplotlib, Statmodels y muchas otras librerías científicas dependen de NumPy.\n",
        "\n",
        "Las principales contribuciones de NumPy son:\n",
        "\n",
        "* Computación numérica eficiente con código \"C\"\n",
        "* Recopilaciones eficientes con operaciones vectoriales\n",
        "* Un Aplicativo (API) de álgebra lineal integrada y natural\n",
        "* Un Aplicativo (API) en C para conectar NumPy con librerías escritas en C, C++ o FORTRAN.\n",
        "\n",
        "Desarrollemos la eficiencia. En Python, **todo es un objeto**, lo que significa que incluso los simples __enteros (int)__ son también objetos, con toda la maquinaria necesaria para hacer que el objeto funcione. Los llamamos \"Boxed Ints\". En cambio, `NumPy` utiliza tipos numéricos primitivos (floats, ints) que hacen que el almacenamiento y el cálculo sean eficientes.\n"
      ]
    },
    {
      "cell_type": "markdown",
      "metadata": {
        "id": "nAkR6a8G_Z94"
      },
      "source": [
        "![Python Boxed Ints vs C and Numpy](https://user-images.githubusercontent.com/19308295/115942212-b2ea7600-a46e-11eb-86ed-d7cdc9dffbe0.png)"
      ]
    },
    {
      "cell_type": "markdown",
      "metadata": {
        "id": "F6cbkeC0_Z94"
      },
      "source": [
        "\n",
        "<img src=\"https://user-images.githubusercontent.com/19308295/115942590-98b19780-a470-11eb-84b0-a6390e928eb3.png\"\n",
        "    style=\"width:700px\"></img>"
      ]
    },
    {
      "cell_type": "markdown",
      "metadata": {
        "id": "e18yl4wi_Z94"
      },
      "source": [
        "\n",
        "<div class=\"well\">\n",
        "\n",
        "<strong>Utilización de NumPy:</strong>\n",
        "    \n",
        "* En Matemáticas (Reemplaza al MATLAB)\n",
        "* Genera Gráficos a partir de Matrices Numpy\n",
        "* Backend (Pandas, Connect 4 Games, Fotografía Digital)\n",
        "* Machine Learning.\n",
        "    \n",
        "</div>"
      ]
    },
    {
      "cell_type": "markdown",
      "metadata": {
        "id": "bsqx6DgU_Z95"
      },
      "source": [
        "<div class=\"well\">\n",
        "\n",
        "<strong>NumPy Array o el arreglo de matrices de NumPy</strong> es un potente objeto de matriz N-dimensional que tiene forma de filas y columnas, en la que tenemos varios elementos que están almacenados en sus respectivas ubicaciones de memoria.\n",
        "    \n",
        "En la siguiente imagen, es una <strong>matriz bidimensiona</strong>l porque tiene filas y columnas, como puedes ver tiene cuatro filas y tres columnas, por lo que se convierte en una matriz bidimensional. En el caso de que solo tuviera una fila entonces habría sido una matriz unidimensional.\n",
        "    \n",
        "</div>"
      ]
    },
    {
      "cell_type": "markdown",
      "metadata": {
        "id": "k6ZsxZBg_Z95"
      },
      "source": [
        "![Practica_04](https://user-images.githubusercontent.com/19308295/115941133-c8a96c80-a469-11eb-8e21-117c1e84bf69.png)"
      ]
    },
    {
      "cell_type": "markdown",
      "metadata": {
        "id": "HEFQIh-X_Z95"
      },
      "source": [
        "![linea 2](https://user-images.githubusercontent.com/19308295/115926262-2fb62980-a448-11eb-8189-c2f10e499944.png)"
      ]
    },
    {
      "cell_type": "markdown",
      "metadata": {
        "id": "DLKGrLUi_Z95"
      },
      "source": [
        "## <font color=#33A5FF>****2. Numpy: Funciones básicas****<tfont>"
      ]
    },
    {
      "cell_type": "markdown",
      "metadata": {
        "id": "H7JM2M0e_Z95"
      },
      "source": [
        "###  Matriz  unidimensional"
      ]
    },
    {
      "cell_type": "markdown",
      "metadata": {
        "id": "VvWRC_wD_Z95"
      },
      "source": [
        "Con la primera instrucción `import numpy as np` le estamos indicando a nuestro programa de Python que de ahora en adelante `np` será la referencia para todo lo referente a NumPy."
      ]
    },
    {
      "cell_type": "code",
      "execution_count": 7,
      "metadata": {
        "id": "VQy8zM0G_Z95",
        "outputId": "d7929d1e-1ddc-4a0b-fed9-32aa2f347276",
        "colab": {
          "base_uri": "https://localhost:8080/"
        }
      },
      "outputs": [
        {
          "output_type": "stream",
          "name": "stdout",
          "text": [
            "[1 2 3 4 5 6 7 8]\n"
          ]
        }
      ],
      "source": [
        "import numpy as np\n",
        "a=np.array([1,2,3,4,5,6,7,8])\n",
        "print(a)"
      ]
    },
    {
      "cell_type": "code",
      "execution_count": null,
      "metadata": {
        "id": "kjDwvbXa_Z96"
      },
      "outputs": [],
      "source": []
    },
    {
      "cell_type": "markdown",
      "metadata": {
        "id": "zWzemzT0_Z97"
      },
      "source": [
        "###  Matriz bidimensional"
      ]
    },
    {
      "cell_type": "code",
      "execution_count": null,
      "metadata": {
        "colab": {
          "base_uri": "https://localhost:8080/"
        },
        "id": "Awg2TJL__Z97",
        "outputId": "6f2df3fb-b192-414f-ba49-2f2a2b9ad3f3"
      },
      "outputs": [
        {
          "output_type": "stream",
          "name": "stdout",
          "text": [
            "[[1 2 3 4]\n",
            " [5 6 7 8]]\n"
          ]
        }
      ],
      "source": [
        "import numpy as np\n",
        "b=np.array([(1,2,3,4),(5,6,7,8)])\n",
        "print(b)"
      ]
    },
    {
      "cell_type": "code",
      "execution_count": null,
      "metadata": {
        "id": "-GY4NQn-_Z97",
        "outputId": "6168b322-5928-497a-8849-e32b366555c1"
      },
      "outputs": [
        {
          "name": "stdout",
          "output_type": "stream",
          "text": [
            "[[1 2 3 4]\n",
            " [5 6 7 8]]\n"
          ]
        }
      ],
      "source": [
        "array=np.array([[1,2,3,4], [5,6,7,8]], dtype=np.int64)\n",
        "print(array)"
      ]
    },
    {
      "cell_type": "markdown",
      "metadata": {
        "id": "VnafxSRP_Z97"
      },
      "source": [
        "###  Porque usar NumPy"
      ]
    },
    {
      "cell_type": "markdown",
      "metadata": {
        "id": "-p6QlE-X_Z97"
      },
      "source": [
        "Porque usar NumPy en vez de utilizar las listas propias que ofrece Python para manejar estos datos, la primera razón es que NumPy ocupa menos memoria en comparación a las lista de Python, a su vez es bastante rápido en términos de ejecución. Lo que se observa en el siguiente ejemplo:"
      ]
    },
    {
      "cell_type": "markdown",
      "metadata": {
        "id": "f3bR12dj_Z97"
      },
      "source": [
        "**Cantidad de memoria asignada**"
      ]
    },
    {
      "cell_type": "code",
      "execution_count": null,
      "metadata": {
        "id": "SBK1nWYB_Z97",
        "outputId": "d9a2e8c0-6328-414b-ef3c-a6daf284b4b9"
      },
      "outputs": [
        {
          "name": "stdout",
          "output_type": "stream",
          "text": [
            "28000\n"
          ]
        }
      ],
      "source": [
        "import sys\n",
        "S=range(1000)\n",
        "print(sys.getsizeof(5)*len(S))"
      ]
    },
    {
      "cell_type": "code",
      "execution_count": null,
      "metadata": {
        "id": "IjoEGT5E_Z98",
        "outputId": "ffcb0655-96df-4e80-caf8-fd088dc90640"
      },
      "outputs": [
        {
          "name": "stdout",
          "output_type": "stream",
          "text": [
            "4000\n"
          ]
        }
      ],
      "source": [
        "D=np.arange(1000)\n",
        "print(D.size*D.itemsize)"
      ]
    },
    {
      "cell_type": "markdown",
      "metadata": {
        "id": "IciVac0W_Z98"
      },
      "source": [
        "**Velocidad**"
      ]
    },
    {
      "cell_type": "code",
      "execution_count": null,
      "metadata": {
        "id": "wpr2T-mp_Z98",
        "outputId": "832562ea-c7a4-447f-8fe4-b2a7662b6ade"
      },
      "outputs": [
        {
          "name": "stdout",
          "output_type": "stream",
          "text": [
            "380.6002140045166\n"
          ]
        }
      ],
      "source": [
        "import time\n",
        "\n",
        "SIZE = 1000000\n",
        "\n",
        "L1= range(SIZE)\n",
        "L2= range(SIZE)\n",
        "\n",
        "start= time.time()\n",
        "result=[(x,y) for x,y in zip(L1,L2)] #se usa for\n",
        "print((time.time()-start)*1000)#velocidad en lista"
      ]
    },
    {
      "cell_type": "code",
      "execution_count": null,
      "metadata": {
        "id": "OPJNDlAe_Z98",
        "outputId": "83677e1b-35af-4f6a-bb94-0e77b9e0f07d"
      },
      "outputs": [
        {
          "name": "stdout",
          "output_type": "stream",
          "text": [
            "115.75770378112793\n"
          ]
        }
      ],
      "source": [
        "A1=np.arange(SIZE)\n",
        "A2=np.arange(SIZE)\n",
        "\n",
        "start=time.time()\n",
        "result= A1+A2 #solo se suma\n",
        "print((time.time()-start)*1000) #velocidad de Numpy"
      ]
    },
    {
      "cell_type": "markdown",
      "metadata": {
        "id": "MEDkD06l_Z98"
      },
      "source": [
        "### Matrices Vacias"
      ]
    },
    {
      "cell_type": "markdown",
      "metadata": {
        "id": "KLaYXDcK_Z98"
      },
      "source": [
        "En ocasiones se requiere crear matrices vacías, esto se refiere a que se requieren marcadores de posición iniciales, que luego pueden ser rellenados. Se puede inicializar matrices con unos o ceros, pero también puedes hacer matrices que se llenan con valores espaciados uniformemente, valores constantes o aleatorios.\n",
        "\n",
        "Algunas de las instrucciones para crear este tipo de matrices son las siguientes:"
      ]
    },
    {
      "cell_type": "markdown",
      "metadata": {
        "id": "mMQV23ox_Z98"
      },
      "source": [
        "**Crear una matriz en donde todos los valores sean igual a 1**"
      ]
    },
    {
      "cell_type": "code",
      "execution_count": 8,
      "metadata": {
        "id": "N4vhYpLz_Z99",
        "outputId": "b56ffe19-df74-4507-85a2-ea9e9db0c0cf",
        "colab": {
          "base_uri": "https://localhost:8080/"
        }
      },
      "outputs": [
        {
          "output_type": "stream",
          "name": "stdout",
          "text": [
            "[[1. 1. 1.]\n",
            " [1. 1. 1.]\n",
            " [1. 1. 1.]\n",
            " [1. 1. 1.]]\n"
          ]
        }
      ],
      "source": [
        "unos = np.ones((4,3))\n",
        "print(unos)"
      ]
    },
    {
      "cell_type": "markdown",
      "metadata": {
        "id": "B4tLiN5L_Z99"
      },
      "source": [
        "**Crear una matriz en donde todos los valores sean igual a 0**"
      ]
    },
    {
      "cell_type": "code",
      "execution_count": 9,
      "metadata": {
        "id": "eDif60ju_Z9-",
        "outputId": "e0a5d2ba-bbc8-4440-a39e-ea7132fc6473",
        "colab": {
          "base_uri": "https://localhost:8080/"
        }
      },
      "outputs": [
        {
          "output_type": "stream",
          "name": "stdout",
          "text": [
            "[[0. 0. 0. 0.]\n",
            " [0. 0. 0. 0.]\n",
            " [0. 0. 0. 0.]\n",
            " [0. 0. 0. 0.]\n",
            " [0. 0. 0. 0.]\n",
            " [0. 0. 0. 0.]]\n"
          ]
        }
      ],
      "source": [
        "ceros = np.zeros((6,4))\n",
        "print(ceros)"
      ]
    },
    {
      "cell_type": "markdown",
      "metadata": {
        "id": "dkG8HpnE_Z9-"
      },
      "source": [
        "**Crear una matriz de números aleatorios**"
      ]
    },
    {
      "cell_type": "code",
      "execution_count": 10,
      "metadata": {
        "id": "zgQV_qgi_Z9-",
        "outputId": "ac126759-578f-44e4-82c0-9361f59abcde",
        "colab": {
          "base_uri": "https://localhost:8080/"
        }
      },
      "outputs": [
        {
          "output_type": "stream",
          "name": "stdout",
          "text": [
            "[[0.10118496 0.51333863]\n",
            " [0.74478759 0.39177806]]\n"
          ]
        }
      ],
      "source": [
        "aleatorios = np.random.random((2,2))\n",
        "print(aleatorios)"
      ]
    },
    {
      "cell_type": "markdown",
      "metadata": {
        "id": "b6olsNqm_Z9-"
      },
      "source": [
        "**Crear una matriz vacía**"
      ]
    },
    {
      "cell_type": "code",
      "execution_count": 11,
      "metadata": {
        "id": "oaei8Mw__Z9-",
        "outputId": "395905d6-4516-480e-cd95-f9f5f69a45c7",
        "colab": {
          "base_uri": "https://localhost:8080/"
        }
      },
      "outputs": [
        {
          "output_type": "stream",
          "name": "stdout",
          "text": [
            "[[4.9e-324 9.9e-324]\n",
            " [1.5e-323 2.5e-323]\n",
            " [3.0e-323 3.5e-323]]\n"
          ]
        }
      ],
      "source": [
        "vacia = np.empty((3,2))\n",
        "print(vacia)"
      ]
    },
    {
      "cell_type": "markdown",
      "metadata": {
        "id": "o6oGAuZa_Z9_"
      },
      "source": [
        "**Crear una matriz que contenga un solo valor en todas las posiciones**"
      ]
    },
    {
      "cell_type": "code",
      "execution_count": 12,
      "metadata": {
        "id": "cJuMalzs_Z9_",
        "outputId": "eaa5b3f4-a894-4de5-c053-c8b2fa1ff04e",
        "colab": {
          "base_uri": "https://localhost:8080/"
        }
      },
      "outputs": [
        {
          "output_type": "stream",
          "name": "stdout",
          "text": [
            "[[8 8]\n",
            " [8 8]]\n"
          ]
        }
      ],
      "source": [
        "full = np.full((2,2),8)\n",
        "print(full)"
      ]
    },
    {
      "cell_type": "markdown",
      "metadata": {
        "id": "kicYKaAM_Z9_"
      },
      "source": [
        "**Crear una matriz con rangos de números**"
      ]
    },
    {
      "cell_type": "code",
      "execution_count": 13,
      "metadata": {
        "id": "nOm0bigC_Z9_",
        "outputId": "32ebc2da-5859-46e0-9651-073db14baebc",
        "colab": {
          "base_uri": "https://localhost:8080/"
        }
      },
      "outputs": [
        {
          "output_type": "stream",
          "name": "stdout",
          "text": [
            "[ 0  5 10 15 20 25]\n"
          ]
        }
      ],
      "source": [
        "espacio1 = np.arange(0,30,5)\n",
        "print(espacio1)"
      ]
    },
    {
      "cell_type": "code",
      "execution_count": 14,
      "metadata": {
        "id": "IdxH2G9x_Z9_",
        "outputId": "7e9cc6da-142f-47c9-dff5-40c48a0a9da9",
        "colab": {
          "base_uri": "https://localhost:8080/"
        }
      },
      "outputs": [
        {
          "output_type": "stream",
          "name": "stdout",
          "text": [
            "[0.  0.5 1.  1.5 2. ]\n"
          ]
        }
      ],
      "source": [
        "espacio2 = np.linspace(0,2,5)\n",
        "print(espacio2)"
      ]
    },
    {
      "cell_type": "markdown",
      "metadata": {
        "id": "dxgnTpfv_Z9_"
      },
      "source": [
        "**Crear una matriz identidad**"
      ]
    },
    {
      "cell_type": "code",
      "execution_count": 15,
      "metadata": {
        "id": "rXdCLHKu_Z9_",
        "outputId": "fe4ebd2c-cd39-4e21-89e2-1f2a68425aa9",
        "colab": {
          "base_uri": "https://localhost:8080/"
        }
      },
      "outputs": [
        {
          "output_type": "stream",
          "name": "stdout",
          "text": [
            "[[1. 0. 0. 0.]\n",
            " [0. 1. 0. 0.]\n",
            " [0. 0. 1. 0.]\n",
            " [0. 0. 0. 1.]]\n",
            "[[1. 0. 0. 0.]\n",
            " [0. 1. 0. 0.]\n",
            " [0. 0. 1. 0.]\n",
            " [0. 0. 0. 1.]]\n"
          ]
        }
      ],
      "source": [
        "identidad1 = np.eye(4,4)\n",
        "print(identidad1)\n",
        "\n",
        "identidad2 = np.identity(4)\n",
        "print(identidad2)"
      ]
    },
    {
      "cell_type": "markdown",
      "metadata": {
        "id": "cs6M8NsK_Z-A"
      },
      "source": [
        "![linea 2](https://user-images.githubusercontent.com/19308295/115926262-2fb62980-a448-11eb-8189-c2f10e499944.png)"
      ]
    },
    {
      "cell_type": "markdown",
      "metadata": {
        "id": "ep3B8_c1_Z-A"
      },
      "source": [
        "## <font color=#33A5FF>****3. Inspeccionar matrices de NumPy****<tfont>"
      ]
    },
    {
      "cell_type": "markdown",
      "metadata": {
        "id": "mdtBYR3b_Z-A"
      },
      "source": [
        "**Dimensión de una matriz**"
      ]
    },
    {
      "cell_type": "code",
      "execution_count": 16,
      "metadata": {
        "id": "3F5hJXNM_Z-A",
        "outputId": "89fcf035-4b6a-43b6-f271-fe83af524b47",
        "colab": {
          "base_uri": "https://localhost:8080/"
        }
      },
      "outputs": [
        {
          "output_type": "stream",
          "name": "stdout",
          "text": [
            "2\n"
          ]
        }
      ],
      "source": [
        "# Conocer las dimensiones de una matriz\n",
        "a = np.array([(1,2,3),(4,5,6)])\n",
        "print(a.ndim)"
      ]
    },
    {
      "cell_type": "markdown",
      "metadata": {
        "id": "zS8PhO91_Z-A"
      },
      "source": [
        "**Tipo de Datos de una matriz**"
      ]
    },
    {
      "cell_type": "code",
      "execution_count": 17,
      "metadata": {
        "id": "ZOs8Rc7Q_Z-B",
        "outputId": "9065b430-89f0-4746-a56e-db8535ec13f5",
        "colab": {
          "base_uri": "https://localhost:8080/"
        }
      },
      "outputs": [
        {
          "output_type": "stream",
          "name": "stdout",
          "text": [
            "int64\n"
          ]
        }
      ],
      "source": [
        "# Conocer el tipo de los datos\n",
        "print(a.dtype)"
      ]
    },
    {
      "cell_type": "markdown",
      "metadata": {
        "id": "l7y_EMaX_Z-B"
      },
      "source": [
        "**Tamaño y forma de una matriz**"
      ]
    },
    {
      "cell_type": "code",
      "execution_count": 18,
      "metadata": {
        "id": "nb7FqS_z_Z-B",
        "outputId": "9bfd46c6-7e78-4b96-8b8e-87bb988df30f",
        "colab": {
          "base_uri": "https://localhost:8080/"
        }
      },
      "outputs": [
        {
          "output_type": "stream",
          "name": "stdout",
          "text": [
            "6\n",
            "(1, 6)\n"
          ]
        }
      ],
      "source": [
        "# Conocer el tamaño y forma de la matriz\n",
        "a = np.array([(1,2,3,4,5,6)])\n",
        "print(a.size)\n",
        "print(a.shape)"
      ]
    },
    {
      "cell_type": "markdown",
      "metadata": {
        "id": "yMrk8BWC_Z-B"
      },
      "source": [
        "**Cambio de forma de una matriz**"
      ]
    },
    {
      "cell_type": "code",
      "execution_count": 21,
      "metadata": {
        "id": "5eBMi8Yl_Z-B",
        "outputId": "5bee3089-5ac1-4c6b-8f14-cbf8a52f2705",
        "colab": {
          "base_uri": "https://localhost:8080/"
        }
      },
      "outputs": [
        {
          "output_type": "stream",
          "name": "stdout",
          "text": [
            "[[ 4  5 15]\n",
            " [11 22 33]]\n",
            "[[ 4  5]\n",
            " [15 11]\n",
            " [22 33]]\n"
          ]
        }
      ],
      "source": [
        "# Cambio de forma de una matriz\n",
        "a = np.array([(4,5,15),(11,22,33)])  #2 filas x 3 columnas\n",
        "print(a)\n",
        "a = a.reshape(3,2)#3 filas x 2 columnas\n",
        "print(a)"
      ]
    },
    {
      "cell_type": "markdown",
      "metadata": {
        "id": "r1LjxOaJ_Z-B"
      },
      "source": [
        "**Seleccionar elemento de una matriz**"
      ]
    },
    {
      "cell_type": "code",
      "execution_count": null,
      "metadata": {
        "id": "dSyCvMJo_Z-C",
        "outputId": "a90d53f4-10b5-4bca-c691-8dd43f8733da"
      },
      "outputs": [
        {
          "name": "stdout",
          "output_type": "stream",
          "text": [
            "3\n"
          ]
        }
      ],
      "source": [
        "# Extraer un solo valor de la matriz - el valor ubicado en la fila 0 columna 2\n",
        "a = np.array([(1,2,3,4),(3,4,5,6)])\n",
        "print(a[0,2])"
      ]
    },
    {
      "cell_type": "code",
      "execution_count": null,
      "metadata": {
        "id": "sUBoDcSP_Z-C",
        "outputId": "6cfb631a-9708-43cc-f063-99c96e2fe09d"
      },
      "outputs": [
        {
          "name": "stdout",
          "output_type": "stream",
          "text": [
            "[3 5]\n"
          ]
        }
      ],
      "source": [
        "# Extraer los valores de todas las filas ubicados en la columna 3\n",
        "a = np.array([(1,2,3,4),(3,4,5,6)])\n",
        "print(a[0:,2])"
      ]
    },
    {
      "cell_type": "markdown",
      "metadata": {
        "id": "tsxNyjlE_Z-C"
      },
      "source": [
        "![linea 2](https://user-images.githubusercontent.com/19308295/115926262-2fb62980-a448-11eb-8189-c2f10e499944.png)"
      ]
    },
    {
      "cell_type": "markdown",
      "metadata": {
        "id": "El9e56RR_Z-C"
      },
      "source": [
        "## <font color=#33A5FF>****4. Operaciones Matemáticas entre matrices de NumPy****<tfont>"
      ]
    },
    {
      "cell_type": "markdown",
      "metadata": {
        "id": "zx5yFJ5O_Z-D"
      },
      "source": [
        "**Valor mínimo, máximo y la suma de una matriz**"
      ]
    },
    {
      "cell_type": "code",
      "execution_count": 23,
      "metadata": {
        "id": "_OclshBk_Z-D",
        "outputId": "bf199d02-09fb-427f-d434-9e5c705a8e77",
        "colab": {
          "base_uri": "https://localhost:8080/"
        }
      },
      "outputs": [
        {
          "output_type": "stream",
          "name": "stdout",
          "text": [
            "1\n",
            "1000\n",
            "1051\n"
          ]
        }
      ],
      "source": [
        "# Encontrar el mínimo, máximo y la suma\n",
        "a= np.array([1,50,1000])\n",
        "print(a.min())\n",
        "print(a.max())\n",
        "print(a.sum())"
      ]
    },
    {
      "cell_type": "markdown",
      "metadata": {
        "id": "xOxmwIpb_Z-D"
      },
      "source": [
        "**Raiz Cuadrada y Desviación de una matriz**"
      ]
    },
    {
      "cell_type": "code",
      "execution_count": 24,
      "metadata": {
        "id": "pzdS5omi_Z-D",
        "outputId": "e30e218f-08b2-4ade-be49-a6270ed69048",
        "colab": {
          "base_uri": "https://localhost:8080/"
        }
      },
      "outputs": [
        {
          "output_type": "stream",
          "name": "stdout",
          "text": [
            "[[3.         4.         9.        ]\n",
            " [5.74456265 6.63324958 7.07106781]]\n",
            "23.71649683705885\n"
          ]
        }
      ],
      "source": [
        "# Calcular la raíz cuadrada y la desviación estándar\n",
        "a=np.array([(9,16,81),(33,44,50,)])\n",
        "print(np.sqrt(a))\n",
        "print(np.std(a))"
      ]
    },
    {
      "cell_type": "markdown",
      "metadata": {
        "id": "Ta08OlQG_Z-E"
      },
      "source": [
        "**Suma, resta, multiplicación y división de dos matrices**"
      ]
    },
    {
      "cell_type": "code",
      "execution_count": null,
      "metadata": {
        "id": "6GJDyUzf_Z-E",
        "outputId": "65aac8af-f143-488d-e3b8-49750bf50de7"
      },
      "outputs": [
        {
          "name": "stdout",
          "output_type": "stream",
          "text": [
            "[[ 2  4  6]\n",
            " [ 6  8 10]]\n",
            "\n",
            "[[0 0 0]\n",
            " [0 0 0]]\n",
            "\n",
            "[[ 1  4  9]\n",
            " [ 9 16 25]]\n",
            "\n",
            "[[1. 1. 1.]\n",
            " [1. 1. 1.]]\n"
          ]
        }
      ],
      "source": [
        "# Calcular la suma, resta, multiplicación y división de dos matrices\n",
        "x= np.array([(1,2,3),(3,4,5)])\n",
        "y= np.array([(1,2,3),(3,4,5)])\n",
        "print(x+y)\n",
        "print()\n",
        "print(x-y)\n",
        "print()\n",
        "print(x*y)\n",
        "print()\n",
        "print(x/y)"
      ]
    },
    {
      "cell_type": "markdown",
      "metadata": {
        "id": "GgfHOu4O_Z-E"
      },
      "source": [
        "![linea 2](https://user-images.githubusercontent.com/19308295/115926262-2fb62980-a448-11eb-8189-c2f10e499944.png)"
      ]
    },
    {
      "cell_type": "markdown",
      "metadata": {
        "id": "IsBToAV-_Z-E"
      },
      "source": [
        "## <font color=#33A5FF>****EJEMPLOS****<tfont>"
      ]
    },
    {
      "cell_type": "markdown",
      "metadata": {
        "id": "a4f0m_-e_Z-F"
      },
      "source": [
        "___Ejemplo 1:___ Cree una matriz de 5x5 con valores 1,2,3,4 justo debajo de la diagonal:"
      ]
    },
    {
      "cell_type": "code",
      "execution_count": 25,
      "metadata": {
        "id": "P3HPnOWM_Z-F",
        "outputId": "94c23abc-0deb-4f63-cbe2-944af4189ba0",
        "colab": {
          "base_uri": "https://localhost:8080/"
        }
      },
      "outputs": [
        {
          "output_type": "stream",
          "name": "stdout",
          "text": [
            "[[0 0 0 0 0]\n",
            " [1 0 0 0 0]\n",
            " [0 2 0 0 0]\n",
            " [0 0 3 0 0]\n",
            " [0 0 0 4 0]]\n"
          ]
        }
      ],
      "source": [
        "Z = np.diag(1+np.arange(4),k=-1)\n",
        "print(Z)"
      ]
    },
    {
      "cell_type": "markdown",
      "metadata": {
        "id": "z-iBZXcd_Z-F"
      },
      "source": [
        "___Ejemplo 2:___ Crea un vector aleatorio de tamaño 30 y encuentra el valor medio :"
      ]
    },
    {
      "cell_type": "code",
      "execution_count": 29,
      "metadata": {
        "id": "HcBKl0p-_Z-F",
        "outputId": "98af5522-4d80-422c-d32c-a8bbebf804cb",
        "colab": {
          "base_uri": "https://localhost:8080/"
        }
      },
      "outputs": [
        {
          "output_type": "stream",
          "name": "stdout",
          "text": [
            "0.5322976558285895\n"
          ]
        }
      ],
      "source": [
        "Z = np.random.random(30)\n",
        "m = Z.mean()\n",
        "print(m)"
      ]
    },
    {
      "cell_type": "markdown",
      "metadata": {
        "id": "9nCAzsxJ_Z-F"
      },
      "source": [
        "___Ejemplo 3:___ ¿Cómo ordenar una matriz por la enésima columna?:"
      ]
    },
    {
      "cell_type": "code",
      "execution_count": 28,
      "metadata": {
        "id": "w0qx010F_Z-G",
        "outputId": "e2fb294c-4aa4-4da2-a7c5-2c0cdf1c5625",
        "colab": {
          "base_uri": "https://localhost:8080/"
        }
      },
      "outputs": [
        {
          "output_type": "stream",
          "name": "stdout",
          "text": [
            "[[2 9 9]\n",
            " [3 9 1]\n",
            " [9 5 5]]\n",
            "[[9 5 5]\n",
            " [2 9 9]\n",
            " [3 9 1]]\n"
          ]
        }
      ],
      "source": [
        "Z = np.random.randint(0,10,(3,3))\n",
        "print(Z)\n",
        "print(Z[Z[:,1].argsort()])"
      ]
    },
    {
      "cell_type": "markdown",
      "metadata": {
        "id": "MN3XkTy9_Z-G"
      },
      "source": [
        "___Ejemplo 4:___ ¿Cómo agregar un borde (lleno de 0) alrededor de una matriz existente?"
      ]
    },
    {
      "cell_type": "code",
      "execution_count": 30,
      "metadata": {
        "id": "0rHXBPW6_Z-G",
        "outputId": "fb1c369b-e942-4b9b-9b37-fb0bcdf0ef63",
        "colab": {
          "base_uri": "https://localhost:8080/"
        }
      },
      "outputs": [
        {
          "output_type": "stream",
          "name": "stdout",
          "text": [
            "[[0. 0. 0. 0. 0. 0. 0.]\n",
            " [0. 1. 1. 1. 1. 1. 0.]\n",
            " [0. 1. 1. 1. 1. 1. 0.]\n",
            " [0. 1. 1. 1. 1. 1. 0.]\n",
            " [0. 1. 1. 1. 1. 1. 0.]\n",
            " [0. 1. 1. 1. 1. 1. 0.]\n",
            " [0. 0. 0. 0. 0. 0. 0.]]\n"
          ]
        }
      ],
      "source": [
        "Z = np.ones((5,5))\n",
        "Z = np.pad(Z, pad_width=1, mode='constant', constant_values=0)\n",
        "print(Z)"
      ]
    },
    {
      "cell_type": "markdown",
      "metadata": {
        "id": "JWVKGgWQ_Z-G"
      },
      "source": [
        "![linea 2](https://user-images.githubusercontent.com/19308295/115926262-2fb62980-a448-11eb-8189-c2f10e499944.png)"
      ]
    },
    {
      "cell_type": "markdown",
      "metadata": {
        "id": "bcpqvYqf_Z-G"
      },
      "source": [
        "## <font color=#33A5FF>****BIBLIOGRAFÍA****<tfont>"
      ]
    },
    {
      "cell_type": "markdown",
      "metadata": {
        "id": "b2VALPzG_Z-G"
      },
      "source": [
        "[1] Documentación de NumPy http://docs.scipy.org/doc/numpy\n",
        "\n",
        "[2] Travis Oliphant, \"Guide to NumPy\" http://csc.ucdavis.edu/~chaos/courses/nlp/Software/NumPyBook.pdf\n",
        "\n",
        "[3] SciPy Lecture Notes http://scipy-lectures.github.io\n",
        "\n",
        "[4] Nicolas Rougier, \"100 NumPy exercises\" http://www.loria.fr/~rougier/teaching/numpy.100/index.html"
      ]
    },
    {
      "cell_type": "markdown",
      "metadata": {
        "id": "2-_b_9b0_Z-H"
      },
      "source": [
        "![linea 1](https://user-images.githubusercontent.com/19308295/115926252-2b8a0c00-a448-11eb-9d9c-b43beaf0ff68.png)"
      ]
    }
  ],
  "metadata": {
    "kernelspec": {
      "display_name": "Python 3 (ipykernel)",
      "language": "python",
      "name": "python3"
    },
    "language_info": {
      "codemirror_mode": {
        "name": "ipython",
        "version": 3
      },
      "file_extension": ".py",
      "mimetype": "text/x-python",
      "name": "python",
      "nbconvert_exporter": "python",
      "pygments_lexer": "ipython3",
      "version": "3.11.7"
    },
    "colab": {
      "provenance": []
    }
  },
  "nbformat": 4,
  "nbformat_minor": 0
}